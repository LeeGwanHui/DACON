{
  "nbformat": 4,
  "nbformat_minor": 0,
  "metadata": {
    "colab": {
      "name": "Lv1 복습 2/2",
      "provenance": [],
      "collapsed_sections": [
        "AUk_fCmVhtIc"
      ],
      "include_colab_link": true
    },
    "kernelspec": {
      "name": "python3",
      "display_name": "Python 3"
    },
    "language_info": {
      "name": "python"
    }
  },
  "cells": [
    {
      "cell_type": "markdown",
      "metadata": {
        "id": "view-in-github",
        "colab_type": "text"
      },
      "source": [
        "<a href=\"https://colab.research.google.com/github/LeeGwanHui/DACON/blob/main/Daily_Lv1.ipynb\" target=\"_parent\"><img src=\"https://colab.research.google.com/assets/colab-badge.svg\" alt=\"Open In Colab\"/></a>"
      ]
    },
    {
      "cell_type": "markdown",
      "metadata": {
        "id": "7A1_NrpnNgI0"
      },
      "source": [
        "## 데이터 다운로드\n",
        "--- \n",
        "아래 셀을 실행시켜 데이터를 colab에 불러옵니다.  \n",
        "셀 실행은 Ctrl + Enter 를 이용해 실행 시킬 수 있습니다. "
      ]
    },
    {
      "cell_type": "code",
      "metadata": {
        "id": "a3VxvpLvhnap",
        "outputId": "16b82017-9898-4d2c-ec5c-ef1d97c5020a",
        "colab": {
          "base_uri": "https://localhost:8080/"
        }
      },
      "source": [
        "# 데이터 다운로드 링크로 데이터를 코랩에 불러옵니다.\n",
        "\n",
        "!wget 'https://bit.ly/3gLj0Q6'\n",
        "\n",
        "import zipfile\n",
        "with zipfile.ZipFile('3gLj0Q6', 'r') as existing_zip:\n",
        "    existing_zip.extractall('data')"
      ],
      "execution_count": 1,
      "outputs": [
        {
          "output_type": "stream",
          "name": "stdout",
          "text": [
            "--2022-03-08 06:40:30--  https://bit.ly/3gLj0Q6\n",
            "Resolving bit.ly (bit.ly)... 67.199.248.11, 67.199.248.10\n",
            "Connecting to bit.ly (bit.ly)|67.199.248.11|:443... connected.\n",
            "HTTP request sent, awaiting response... 301 Moved Permanently\n",
            "Location: https://drive.google.com/uc?export=download&id=1or_QN1ksv81DNog6Tu_kWcZ5jJWf5W9E [following]\n",
            "--2022-03-08 06:40:30--  https://drive.google.com/uc?export=download&id=1or_QN1ksv81DNog6Tu_kWcZ5jJWf5W9E\n",
            "Resolving drive.google.com (drive.google.com)... 74.125.195.139, 74.125.195.138, 74.125.195.100, ...\n",
            "Connecting to drive.google.com (drive.google.com)|74.125.195.139|:443... connected.\n",
            "HTTP request sent, awaiting response... 303 See Other\n",
            "Location: https://doc-0c-10-docs.googleusercontent.com/docs/securesc/ha0ro937gcuc7l7deffksulhg5h7mbp1/9u64q8m2ls8krjblef40bc9ropgpb9o8/1646721600000/17946651057176172524/*/1or_QN1ksv81DNog6Tu_kWcZ5jJWf5W9E?e=download [following]\n",
            "Warning: wildcards not supported in HTTP.\n",
            "--2022-03-08 06:40:31--  https://doc-0c-10-docs.googleusercontent.com/docs/securesc/ha0ro937gcuc7l7deffksulhg5h7mbp1/9u64q8m2ls8krjblef40bc9ropgpb9o8/1646721600000/17946651057176172524/*/1or_QN1ksv81DNog6Tu_kWcZ5jJWf5W9E?e=download\n",
            "Resolving doc-0c-10-docs.googleusercontent.com (doc-0c-10-docs.googleusercontent.com)... 74.125.195.132, 2607:f8b0:400e:c09::84\n",
            "Connecting to doc-0c-10-docs.googleusercontent.com (doc-0c-10-docs.googleusercontent.com)|74.125.195.132|:443... connected.\n",
            "HTTP request sent, awaiting response... 200 OK\n",
            "Length: 39208 (38K) [application/zip]\n",
            "Saving to: ‘3gLj0Q6’\n",
            "\n",
            "3gLj0Q6             100%[===================>]  38.29K  --.-KB/s    in 0s      \n",
            "\n",
            "2022-03-08 06:40:31 (92.9 MB/s) - ‘3gLj0Q6’ saved [39208/39208]\n",
            "\n"
          ]
        }
      ]
    },
    {
      "cell_type": "markdown",
      "metadata": {
        "id": "gx8XCXCxeQk8"
      },
      "source": [
        "## 라이브러리 불러오기\n",
        "---\n"
      ]
    },
    {
      "cell_type": "code",
      "metadata": {
        "id": "kt_IKrkPeNwQ"
      },
      "source": [
        "# Pandas 와 Scikit-learn 라이브러리를 불러오세요\n",
        "import pandas as pd\n",
        "import sklearn\n",
        "from sklearn.tree import DecisionTreeClassifier"
      ],
      "execution_count": 23,
      "outputs": []
    },
    {
      "cell_type": "markdown",
      "metadata": {
        "id": "VxC2pa2-rgat"
      },
      "source": [
        "## 데이터 불러오기\n",
        "---"
      ]
    },
    {
      "cell_type": "code",
      "metadata": {
        "id": "V6wTaK4sfnms"
      },
      "source": [
        "# train.csv 와 test.csv 를 DataFrame 클래스로 불러오세요\n",
        "train = pd.read_csv('data/train.csv') \n",
        "test = pd.read_csv('data/test.csv')"
      ],
      "execution_count": 13,
      "outputs": []
    },
    {
      "cell_type": "markdown",
      "metadata": {
        "id": "rx1vTWZ6m275"
      },
      "source": [
        "## 데이터 정보 관찰하기\n",
        "---"
      ]
    },
    {
      "cell_type": "code",
      "metadata": {
        "id": "vsQQaG6AtlGM",
        "outputId": "1332d056-0926-4dce-d60c-4ea927664e5b",
        "colab": {
          "base_uri": "https://localhost:8080/",
          "height": 206
        }
      },
      "source": [
        "# head() 를 사용해 데이터 정보를 관찰하세요\n",
        "train.head()"
      ],
      "execution_count": 14,
      "outputs": [
        {
          "output_type": "execute_result",
          "data": {
            "text/html": [
              "\n",
              "  <div id=\"df-4b3be523-0034-4ea0-b46e-fb1617af480e\">\n",
              "    <div class=\"colab-df-container\">\n",
              "      <div>\n",
              "<style scoped>\n",
              "    .dataframe tbody tr th:only-of-type {\n",
              "        vertical-align: middle;\n",
              "    }\n",
              "\n",
              "    .dataframe tbody tr th {\n",
              "        vertical-align: top;\n",
              "    }\n",
              "\n",
              "    .dataframe thead th {\n",
              "        text-align: right;\n",
              "    }\n",
              "</style>\n",
              "<table border=\"1\" class=\"dataframe\">\n",
              "  <thead>\n",
              "    <tr style=\"text-align: right;\">\n",
              "      <th></th>\n",
              "      <th>id</th>\n",
              "      <th>hour</th>\n",
              "      <th>hour_bef_temperature</th>\n",
              "      <th>hour_bef_precipitation</th>\n",
              "      <th>hour_bef_windspeed</th>\n",
              "      <th>hour_bef_humidity</th>\n",
              "      <th>hour_bef_visibility</th>\n",
              "      <th>hour_bef_ozone</th>\n",
              "      <th>hour_bef_pm10</th>\n",
              "      <th>hour_bef_pm2.5</th>\n",
              "      <th>count</th>\n",
              "    </tr>\n",
              "  </thead>\n",
              "  <tbody>\n",
              "    <tr>\n",
              "      <th>0</th>\n",
              "      <td>3</td>\n",
              "      <td>20</td>\n",
              "      <td>16.3</td>\n",
              "      <td>1.0</td>\n",
              "      <td>1.5</td>\n",
              "      <td>89.0</td>\n",
              "      <td>576.0</td>\n",
              "      <td>0.027</td>\n",
              "      <td>76.0</td>\n",
              "      <td>33.0</td>\n",
              "      <td>49.0</td>\n",
              "    </tr>\n",
              "    <tr>\n",
              "      <th>1</th>\n",
              "      <td>6</td>\n",
              "      <td>13</td>\n",
              "      <td>20.1</td>\n",
              "      <td>0.0</td>\n",
              "      <td>1.4</td>\n",
              "      <td>48.0</td>\n",
              "      <td>916.0</td>\n",
              "      <td>0.042</td>\n",
              "      <td>73.0</td>\n",
              "      <td>40.0</td>\n",
              "      <td>159.0</td>\n",
              "    </tr>\n",
              "    <tr>\n",
              "      <th>2</th>\n",
              "      <td>7</td>\n",
              "      <td>6</td>\n",
              "      <td>13.9</td>\n",
              "      <td>0.0</td>\n",
              "      <td>0.7</td>\n",
              "      <td>79.0</td>\n",
              "      <td>1382.0</td>\n",
              "      <td>0.033</td>\n",
              "      <td>32.0</td>\n",
              "      <td>19.0</td>\n",
              "      <td>26.0</td>\n",
              "    </tr>\n",
              "    <tr>\n",
              "      <th>3</th>\n",
              "      <td>8</td>\n",
              "      <td>23</td>\n",
              "      <td>8.1</td>\n",
              "      <td>0.0</td>\n",
              "      <td>2.7</td>\n",
              "      <td>54.0</td>\n",
              "      <td>946.0</td>\n",
              "      <td>0.040</td>\n",
              "      <td>75.0</td>\n",
              "      <td>64.0</td>\n",
              "      <td>57.0</td>\n",
              "    </tr>\n",
              "    <tr>\n",
              "      <th>4</th>\n",
              "      <td>9</td>\n",
              "      <td>18</td>\n",
              "      <td>29.5</td>\n",
              "      <td>0.0</td>\n",
              "      <td>4.8</td>\n",
              "      <td>7.0</td>\n",
              "      <td>2000.0</td>\n",
              "      <td>0.057</td>\n",
              "      <td>27.0</td>\n",
              "      <td>11.0</td>\n",
              "      <td>431.0</td>\n",
              "    </tr>\n",
              "  </tbody>\n",
              "</table>\n",
              "</div>\n",
              "      <button class=\"colab-df-convert\" onclick=\"convertToInteractive('df-4b3be523-0034-4ea0-b46e-fb1617af480e')\"\n",
              "              title=\"Convert this dataframe to an interactive table.\"\n",
              "              style=\"display:none;\">\n",
              "        \n",
              "  <svg xmlns=\"http://www.w3.org/2000/svg\" height=\"24px\"viewBox=\"0 0 24 24\"\n",
              "       width=\"24px\">\n",
              "    <path d=\"M0 0h24v24H0V0z\" fill=\"none\"/>\n",
              "    <path d=\"M18.56 5.44l.94 2.06.94-2.06 2.06-.94-2.06-.94-.94-2.06-.94 2.06-2.06.94zm-11 1L8.5 8.5l.94-2.06 2.06-.94-2.06-.94L8.5 2.5l-.94 2.06-2.06.94zm10 10l.94 2.06.94-2.06 2.06-.94-2.06-.94-.94-2.06-.94 2.06-2.06.94z\"/><path d=\"M17.41 7.96l-1.37-1.37c-.4-.4-.92-.59-1.43-.59-.52 0-1.04.2-1.43.59L10.3 9.45l-7.72 7.72c-.78.78-.78 2.05 0 2.83L4 21.41c.39.39.9.59 1.41.59.51 0 1.02-.2 1.41-.59l7.78-7.78 2.81-2.81c.8-.78.8-2.07 0-2.86zM5.41 20L4 18.59l7.72-7.72 1.47 1.35L5.41 20z\"/>\n",
              "  </svg>\n",
              "      </button>\n",
              "      \n",
              "  <style>\n",
              "    .colab-df-container {\n",
              "      display:flex;\n",
              "      flex-wrap:wrap;\n",
              "      gap: 12px;\n",
              "    }\n",
              "\n",
              "    .colab-df-convert {\n",
              "      background-color: #E8F0FE;\n",
              "      border: none;\n",
              "      border-radius: 50%;\n",
              "      cursor: pointer;\n",
              "      display: none;\n",
              "      fill: #1967D2;\n",
              "      height: 32px;\n",
              "      padding: 0 0 0 0;\n",
              "      width: 32px;\n",
              "    }\n",
              "\n",
              "    .colab-df-convert:hover {\n",
              "      background-color: #E2EBFA;\n",
              "      box-shadow: 0px 1px 2px rgba(60, 64, 67, 0.3), 0px 1px 3px 1px rgba(60, 64, 67, 0.15);\n",
              "      fill: #174EA6;\n",
              "    }\n",
              "\n",
              "    [theme=dark] .colab-df-convert {\n",
              "      background-color: #3B4455;\n",
              "      fill: #D2E3FC;\n",
              "    }\n",
              "\n",
              "    [theme=dark] .colab-df-convert:hover {\n",
              "      background-color: #434B5C;\n",
              "      box-shadow: 0px 1px 3px 1px rgba(0, 0, 0, 0.15);\n",
              "      filter: drop-shadow(0px 1px 2px rgba(0, 0, 0, 0.3));\n",
              "      fill: #FFFFFF;\n",
              "    }\n",
              "  </style>\n",
              "\n",
              "      <script>\n",
              "        const buttonEl =\n",
              "          document.querySelector('#df-4b3be523-0034-4ea0-b46e-fb1617af480e button.colab-df-convert');\n",
              "        buttonEl.style.display =\n",
              "          google.colab.kernel.accessAllowed ? 'block' : 'none';\n",
              "\n",
              "        async function convertToInteractive(key) {\n",
              "          const element = document.querySelector('#df-4b3be523-0034-4ea0-b46e-fb1617af480e');\n",
              "          const dataTable =\n",
              "            await google.colab.kernel.invokeFunction('convertToInteractive',\n",
              "                                                     [key], {});\n",
              "          if (!dataTable) return;\n",
              "\n",
              "          const docLinkHtml = 'Like what you see? Visit the ' +\n",
              "            '<a target=\"_blank\" href=https://colab.research.google.com/notebooks/data_table.ipynb>data table notebook</a>'\n",
              "            + ' to learn more about interactive tables.';\n",
              "          element.innerHTML = '';\n",
              "          dataTable['output_type'] = 'display_data';\n",
              "          await google.colab.output.renderOutput(dataTable, element);\n",
              "          const docLink = document.createElement('div');\n",
              "          docLink.innerHTML = docLinkHtml;\n",
              "          element.appendChild(docLink);\n",
              "        }\n",
              "      </script>\n",
              "    </div>\n",
              "  </div>\n",
              "  "
            ],
            "text/plain": [
              "   id  hour  hour_bef_temperature  hour_bef_precipitation  hour_bef_windspeed  \\\n",
              "0   3    20                  16.3                     1.0                 1.5   \n",
              "1   6    13                  20.1                     0.0                 1.4   \n",
              "2   7     6                  13.9                     0.0                 0.7   \n",
              "3   8    23                   8.1                     0.0                 2.7   \n",
              "4   9    18                  29.5                     0.0                 4.8   \n",
              "\n",
              "   hour_bef_humidity  hour_bef_visibility  hour_bef_ozone  hour_bef_pm10  \\\n",
              "0               89.0                576.0           0.027           76.0   \n",
              "1               48.0                916.0           0.042           73.0   \n",
              "2               79.0               1382.0           0.033           32.0   \n",
              "3               54.0                946.0           0.040           75.0   \n",
              "4                7.0               2000.0           0.057           27.0   \n",
              "\n",
              "   hour_bef_pm2.5  count  \n",
              "0            33.0   49.0  \n",
              "1            40.0  159.0  \n",
              "2            19.0   26.0  \n",
              "3            64.0   57.0  \n",
              "4            11.0  431.0  "
            ]
          },
          "metadata": {},
          "execution_count": 14
        }
      ]
    },
    {
      "cell_type": "markdown",
      "metadata": {
        "id": "5_bpcPVkt_FF"
      },
      "source": [
        "## 데이터 행열 갯수 관찰\n",
        "---"
      ]
    },
    {
      "cell_type": "code",
      "metadata": {
        "id": "UBg2PGcGt-Dz",
        "outputId": "5d7b9ef3-da41-45dd-d0fb-1121af82f9e4",
        "colab": {
          "base_uri": "https://localhost:8080/"
        }
      },
      "source": [
        "# shape 를 사용해 데이터 크기를 관찰하세요\n",
        "print(train.shape)\n",
        "print(test.shape)"
      ],
      "execution_count": 18,
      "outputs": [
        {
          "output_type": "stream",
          "name": "stdout",
          "text": [
            "(1459, 11)\n",
            "(715, 10)\n"
          ]
        }
      ]
    },
    {
      "cell_type": "markdown",
      "metadata": {
        "id": "MbCKf_ZUu761"
      },
      "source": [
        "## 결측치 확인\n",
        "---"
      ]
    },
    {
      "cell_type": "code",
      "metadata": {
        "id": "9WoxzXdJu6ft",
        "outputId": "7218679a-77a6-42ce-a1af-3fdbe9ed904e",
        "colab": {
          "base_uri": "https://localhost:8080/"
        }
      },
      "source": [
        "# info() 를 사용해 결측치가 있는지 확인하세요.\n",
        "print(train.info())\n",
        "print(test.info())"
      ],
      "execution_count": 19,
      "outputs": [
        {
          "output_type": "stream",
          "name": "stdout",
          "text": [
            "<class 'pandas.core.frame.DataFrame'>\n",
            "RangeIndex: 1459 entries, 0 to 1458\n",
            "Data columns (total 11 columns):\n",
            " #   Column                  Non-Null Count  Dtype  \n",
            "---  ------                  --------------  -----  \n",
            " 0   id                      1459 non-null   int64  \n",
            " 1   hour                    1459 non-null   int64  \n",
            " 2   hour_bef_temperature    1457 non-null   float64\n",
            " 3   hour_bef_precipitation  1457 non-null   float64\n",
            " 4   hour_bef_windspeed      1450 non-null   float64\n",
            " 5   hour_bef_humidity       1457 non-null   float64\n",
            " 6   hour_bef_visibility     1457 non-null   float64\n",
            " 7   hour_bef_ozone          1383 non-null   float64\n",
            " 8   hour_bef_pm10           1369 non-null   float64\n",
            " 9   hour_bef_pm2.5          1342 non-null   float64\n",
            " 10  count                   1459 non-null   float64\n",
            "dtypes: float64(9), int64(2)\n",
            "memory usage: 125.5 KB\n",
            "None\n",
            "<class 'pandas.core.frame.DataFrame'>\n",
            "RangeIndex: 715 entries, 0 to 714\n",
            "Data columns (total 10 columns):\n",
            " #   Column                  Non-Null Count  Dtype  \n",
            "---  ------                  --------------  -----  \n",
            " 0   id                      715 non-null    int64  \n",
            " 1   hour                    715 non-null    int64  \n",
            " 2   hour_bef_temperature    714 non-null    float64\n",
            " 3   hour_bef_precipitation  714 non-null    float64\n",
            " 4   hour_bef_windspeed      714 non-null    float64\n",
            " 5   hour_bef_humidity       714 non-null    float64\n",
            " 6   hour_bef_visibility     714 non-null    float64\n",
            " 7   hour_bef_ozone          680 non-null    float64\n",
            " 8   hour_bef_pm10           678 non-null    float64\n",
            " 9   hour_bef_pm2.5          679 non-null    float64\n",
            "dtypes: float64(8), int64(2)\n",
            "memory usage: 56.0 KB\n",
            "None\n"
          ]
        }
      ]
    },
    {
      "cell_type": "markdown",
      "metadata": {
        "id": "w_PwM9kF7Pbi"
      },
      "source": [
        "## 결측치 전처리\n",
        "---"
      ]
    },
    {
      "cell_type": "code",
      "metadata": {
        "id": "ryKlHfLWqgjY",
        "outputId": "ef5bf223-46e3-421c-9305-70e43b068c78",
        "colab": {
          "base_uri": "https://localhost:8080/"
        }
      },
      "source": [
        "# dropna() 를 사용해 train 데이터는 결측치를 제거하고\n",
        "# fillna() 를 사용해 test 데이터 결측치는 0 으로 대체하세요.\n",
        "# 그리고 결측치의 갯수를 출력하여 확안하세요.\n",
        "train = train.dropna()\n",
        "test = test.fillna(0)\n",
        "\n",
        "print(train.isnull().sum())"
      ],
      "execution_count": 21,
      "outputs": [
        {
          "output_type": "stream",
          "name": "stdout",
          "text": [
            "id                        0\n",
            "hour                      0\n",
            "hour_bef_temperature      0\n",
            "hour_bef_precipitation    0\n",
            "hour_bef_windspeed        0\n",
            "hour_bef_humidity         0\n",
            "hour_bef_visibility       0\n",
            "hour_bef_ozone            0\n",
            "hour_bef_pm10             0\n",
            "hour_bef_pm2.5            0\n",
            "count                     0\n",
            "dtype: int64\n"
          ]
        }
      ]
    },
    {
      "cell_type": "markdown",
      "metadata": {
        "id": "WGV3o2mFx8qG"
      },
      "source": [
        "## 모델 훈련\n",
        "---\n"
      ]
    },
    {
      "cell_type": "code",
      "metadata": {
        "id": "5jqXxcHHyX8g",
        "outputId": "36877970-970b-44b3-a6be-4b4055fd6a8e",
        "colab": {
          "base_uri": "https://localhost:8080/"
        }
      },
      "source": [
        "# train 데이터의 count 피쳐를 뺀 것을 X_train 으로 할당하세요.\n",
        "# train 데이터의 count 피쳐만을 가진 것을 Y_train 으로 할당하세요.\n",
        "# 회귀의사결정나무를 선언하고 fit() 으로 훈련시키세요.\n",
        "X_train = train.drop(['count'], axis=1)\n",
        "Y_train = train['count']\n",
        "model = DecisionTreeClassifier()\n",
        "model.fit(X_train, Y_train)"
      ],
      "execution_count": 25,
      "outputs": [
        {
          "output_type": "execute_result",
          "data": {
            "text/plain": [
              "DecisionTreeClassifier()"
            ]
          },
          "metadata": {},
          "execution_count": 25
        }
      ]
    },
    {
      "cell_type": "markdown",
      "metadata": {
        "id": "Rb9n13smytBH"
      },
      "source": [
        "## 테스트 파일 예측\n",
        "---"
      ]
    },
    {
      "cell_type": "code",
      "metadata": {
        "id": "e6U9mwQByv8m",
        "outputId": "29fe80d7-fff3-4deb-8ee6-3f19c8a019c9",
        "colab": {
          "base_uri": "https://localhost:8080/"
        }
      },
      "source": [
        "# predict() 을 이용해 test data 를 훈련한 모델로 예측한 data array 를 생성하세요.\n",
        "pred = model.predict(test)\n",
        "print(pred)"
      ],
      "execution_count": 28,
      "outputs": [
        {
          "output_type": "stream",
          "name": "stdout",
          "text": [
            "[108. 229.  23.  18.  41.   3. 109. 264. 108. 134. 271. 271. 115.  10.\n",
            " 221. 106.  30.  15. 151. 227. 304. 108.  15. 112. 112. 129.  30. 311.\n",
            " 118. 112.  69.  30.  69. 112. 200.  36. 119.  49. 286.  37.  17. 133.\n",
            " 215.  55. 369. 221.  37.  69.  16.  80. 291.  69. 163.  64. 127. 189.\n",
            "  51. 142.  30.  30. 108.  81. 291. 247. 221. 252.   9. 229. 102.  30.\n",
            " 115.  41. 201.  30. 317. 348.  37. 205. 317.  22. 369. 115. 103.  17.\n",
            "  74. 278.  69. 118. 137. 221. 262. 127.  76. 119.  50.  71.  37.  30.\n",
            " 315. 256.  13. 304.  17.  95. 108.  41. 119.  22. 168. 134. 296. 317.\n",
            " 224. 133.  30.  97. 221.  44.  85.  13. 118.  74.  38. 102.  40. 129.\n",
            "  30.  18. 348.  30. 129. 119.  18. 119. 221. 133.  40. 348. 124. 205.\n",
            "  51.  22. 108. 137.  68. 118. 109. 107. 133. 118. 133. 278. 262. 262.\n",
            " 102.  38. 133.  18.  71. 118. 102.  17. 189. 247. 118.  18.  15. 129.\n",
            " 234.   8.  95. 229.  91. 125.  95.  74. 141. 142. 263. 110. 232. 201.\n",
            " 104. 164.  92. 137.  30. 271. 127.  43.  37. 229.  95.  95. 229. 317.\n",
            " 234. 229. 229. 115.  17.  45.  16. 262. 142. 103. 129. 189. 219.  30.\n",
            " 252.  56. 151. 161. 219. 143. 234.  95. 180.  75. 108.  16.  95.  30.\n",
            " 256.  28. 207. 183. 103. 208. 366. 102.  32.  78. 229.  95. 234. 151.\n",
            " 172. 227.  24. 161.  20. 136. 219.  95. 102. 206.  49.  17. 103. 324.\n",
            " 315. 208. 229. 212.  34. 271.  30.  13. 310.  29. 135.  17.  51. 315.\n",
            "  15. 262.  91. 271. 256.  87.  17. 200.  11. 280.  30. 134. 212.  20.\n",
            " 366.  95.  13.  85. 208.  95. 200. 237.  17.  37. 115. 278.  56. 229.\n",
            " 101.  37. 150.  20. 227.  20. 237. 115. 296. 154. 150. 152. 150.  30.\n",
            " 143.  75. 244. 300. 316.  49. 194. 122. 124.  50.  27.  27. 227.  20.\n",
            " 102. 109. 103. 324. 227.  95. 137. 134.  20. 103.  49.   5. 221.  31.\n",
            " 191. 219. 217. 234.  22.  26. 262. 161. 132.  15. 103.  95. 115. 304.\n",
            " 144. 143.  90.  17. 150.  86.  28.  26.  87. 132.  94. 237. 150.  48.\n",
            " 150.  30.  35. 132.  16. 132.  11. 100. 300. 227. 200.  20.  52. 115.\n",
            "  46.  31.  45. 134. 274. 425. 132.  78.  85. 132.  95. 262.  20. 102.\n",
            " 234.  86. 105.  92. 222.  22.  20. 232.  38.  86.  14. 315.  30. 107.\n",
            " 134.  61. 132.  55. 115. 150. 132.  83.  40. 112. 263. 150.  86.  94.\n",
            "  13.  17.   7. 117. 173.  95. 165. 127.  95. 398. 115. 122. 138. 110.\n",
            "  95. 229. 331.  35.  90. 305. 278. 138.  22.  95. 110.  87.  87.  45.\n",
            " 200. 234. 293. 165. 122. 138. 115. 102. 310.  23.  86.  90. 141.  85.\n",
            "  95. 112. 100. 151. 227.  93. 302. 205. 194.  86. 331. 137. 215. 173.\n",
            "  17.  38. 130. 234.  95. 106.  32.  29. 150. 150. 222. 219.  75. 102.\n",
            " 115. 122.  86.  37.  22. 201.  95. 232. 205. 296.  17.  91.  86.  11.\n",
            " 103. 296. 205.   7. 218.  37.  86. 112. 224. 219. 205.  23.  35. 150.\n",
            " 225.  86.  17. 222.  11.  94.  19.  23.  35. 155. 278. 173.  37. 117.\n",
            "  21. 205.  11.  35.  95.  16.  51.  45. 222.  14.  91. 239. 262.  85.\n",
            " 117. 215. 117. 103. 214.  20.  24. 117.  19. 209. 165.  37. 102. 188.\n",
            " 262. 317.  17.  95.  44.  46.  95.  37.  13. 225.  86. 151. 117. 262.\n",
            " 152. 150. 117. 109.  37. 103.  32.  20.  94.  21.  14.  11.  11. 227.\n",
            " 161. 151.  94.  94.  35. 139.  99.  92. 229.  21. 205. 115.  14. 215.\n",
            "  95.  45. 103. 278. 111. 200. 278. 227. 262. 213.   7. 107. 109.  13.\n",
            "  51.  61. 225. 201.  86. 138. 110. 239.  74. 234.  86.   3.  17. 332.\n",
            " 222.  94. 133.  24. 115. 102. 132. 110.  80. 117.  82. 108.  86.  97.\n",
            " 213. 116. 309. 109. 262. 213.  26. 133.  87.  58. 262. 227. 165.  81.\n",
            " 108.  21. 102. 138.  14.  17. 165. 108. 212. 116. 300.  86.  97. 269.\n",
            " 293.  60. 208. 150.  26.  51.  17.  37.  21. 310. 110. 115. 213. 218.\n",
            " 115.  21.  34.  23. 150.  35.  26. 105.  86.  86.  11. 111. 127. 103.\n",
            " 262. 213.  31. 215. 165. 213.  53.  94.  35. 234.  86.  94.  87. 213.\n",
            "  34.]\n"
          ]
        }
      ]
    },
    {
      "cell_type": "markdown",
      "metadata": {
        "id": "G7SqLw2iy2vR"
      },
      "source": [
        "## submission 파일 생성\n",
        "---"
      ]
    },
    {
      "cell_type": "code",
      "metadata": {
        "id": "EgGr3552y6B0"
      },
      "source": [
        "# submission.csv 를 불러오세요.\n",
        "# submission df 의 count 피쳐에 예측한 결과를 덧입히세요.\n",
        "# submission df 를 to_csv() 를 이용해 csv 을 생성하세요. *index=False) \n",
        "submission = pd.read_csv('data/submission.csv')\n",
        "submission['count'] = pred\n",
        "submission.to_csv('sub.csv',index=False)"
      ],
      "execution_count": 27,
      "outputs": []
    }
  ]
}